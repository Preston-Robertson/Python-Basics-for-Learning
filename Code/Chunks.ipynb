{
 "cells": [
  {
   "cell_type": "code",
   "execution_count": 29,
   "metadata": {},
   "outputs": [],
   "source": [
    "import pandas as pd\n",
    "import time"
   ]
  },
  {
   "cell_type": "code",
   "execution_count": 30,
   "metadata": {},
   "outputs": [],
   "source": [
    "table = pd.read_csv(\"tmp.csv\")"
   ]
  },
  {
   "cell_type": "code",
   "execution_count": 22,
   "metadata": {},
   "outputs": [
    {
     "data": {
      "text/html": [
       "<div>\n",
       "<style scoped>\n",
       "    .dataframe tbody tr th:only-of-type {\n",
       "        vertical-align: middle;\n",
       "    }\n",
       "\n",
       "    .dataframe tbody tr th {\n",
       "        vertical-align: top;\n",
       "    }\n",
       "\n",
       "    .dataframe thead th {\n",
       "        text-align: right;\n",
       "    }\n",
       "</style>\n",
       "<table border=\"1\" class=\"dataframe\">\n",
       "  <thead>\n",
       "    <tr style=\"text-align: right;\">\n",
       "      <th></th>\n",
       "      <th>0</th>\n",
       "      <th>1</th>\n",
       "      <th>2</th>\n",
       "      <th>3</th>\n",
       "    </tr>\n",
       "  </thead>\n",
       "  <tbody>\n",
       "    <tr>\n",
       "      <th>0</th>\n",
       "      <td>631</td>\n",
       "      <td>599</td>\n",
       "      <td>778</td>\n",
       "      <td>282</td>\n",
       "    </tr>\n",
       "    <tr>\n",
       "      <th>1</th>\n",
       "      <td>820</td>\n",
       "      <td>147</td>\n",
       "      <td>455</td>\n",
       "      <td>552</td>\n",
       "    </tr>\n",
       "    <tr>\n",
       "      <th>2</th>\n",
       "      <td>372</td>\n",
       "      <td>648</td>\n",
       "      <td>754</td>\n",
       "      <td>320</td>\n",
       "    </tr>\n",
       "    <tr>\n",
       "      <th>3</th>\n",
       "      <td>628</td>\n",
       "      <td>846</td>\n",
       "      <td>378</td>\n",
       "      <td>275</td>\n",
       "    </tr>\n",
       "    <tr>\n",
       "      <th>4</th>\n",
       "      <td>892</td>\n",
       "      <td>732</td>\n",
       "      <td>668</td>\n",
       "      <td>447</td>\n",
       "    </tr>\n",
       "  </tbody>\n",
       "</table>\n",
       "</div>"
      ],
      "text/plain": [
       "     0    1    2    3\n",
       "0  631  599  778  282\n",
       "1  820  147  455  552\n",
       "2  372  648  754  320\n",
       "3  628  846  378  275\n",
       "4  892  732  668  447"
      ]
     },
     "execution_count": 22,
     "metadata": {},
     "output_type": "execute_result"
    }
   ],
   "source": [
    "table.head()"
   ]
  },
  {
   "cell_type": "code",
   "execution_count": 23,
   "metadata": {},
   "outputs": [
    {
     "data": {
      "text/plain": [
       "(108, 4)"
      ]
     },
     "execution_count": 23,
     "metadata": {},
     "output_type": "execute_result"
    }
   ],
   "source": [
    "table.shape"
   ]
  },
  {
   "cell_type": "code",
   "execution_count": 24,
   "metadata": {},
   "outputs": [
    {
     "name": "stdout",
     "output_type": "stream",
     "text": [
      "Time taken without chunk:  0.0019941329956054688 sec\n"
     ]
    }
   ],
   "source": [
    "start = time.time()\n",
    "table = pd.read_csv(\"tmp.csv\")\n",
    "end = time.time()\n",
    "print(\"Time taken without chunk: \", (end - start), \"sec\")"
   ]
  },
  {
   "cell_type": "code",
   "execution_count": 28,
   "metadata": {},
   "outputs": [
    {
     "name": "stdout",
     "output_type": "stream",
     "text": [
      "     0    1    2    3\n",
      "0  631  599  778  282\n",
      "1  820  147  455  552\n",
      "2  372  648  754  320\n",
      "3  628  846  378  275\n",
      "4  892  732  668  447\n",
      "5  894  143  548  434\n",
      "6  860  220  653  489\n",
      "7  253  594  767  156\n",
      "8  802  675  557  625\n",
      "9  232   82  728    2\n",
      "      0    1    2    3\n",
      "10  796  170  749  692\n",
      "11  846  788  490  714\n",
      "12  474   77  116  543\n",
      "13  730  672  874  406\n",
      "14  564  405  378  730\n",
      "15  257  861  895  169\n",
      "16   55  520  982  816\n",
      "17  631  599  778  282\n",
      "18  820  147  455  552\n",
      "19  372  648  754  320\n",
      "      0    1    2    3\n",
      "20  628  846  378  275\n",
      "21  892  732  668  447\n",
      "22  894  143  548  434\n",
      "23  860  220  653  489\n",
      "24  253  594  767  156\n",
      "25  802  675  557  625\n",
      "26  232   82  728    2\n",
      "27  796  170  749  692\n",
      "28  846  788  490  714\n",
      "29  474   77  116  543\n",
      "      0    1    2    3\n",
      "30  730  672  874  406\n",
      "31  564  405  378  730\n",
      "32  257  861  895  169\n",
      "33   55  520  982  816\n",
      "34  631  599  778  282\n",
      "35  820  147  455  552\n",
      "36  372  648  754  320\n",
      "37  628  846  378  275\n",
      "38  892  732  668  447\n",
      "39  894  143  548  434\n",
      "      0    1    2    3\n",
      "40  860  220  653  489\n",
      "41  253  594  767  156\n",
      "42  802  675  557  625\n",
      "43  232   82  728    2\n",
      "44  796  170  749  692\n",
      "45  846  788  490  714\n",
      "46  474   77  116  543\n",
      "47  730  672  874  406\n",
      "48  564  405  378  730\n",
      "49  257  861  895  169\n",
      "      0    1    2    3\n",
      "50   55  520  982  816\n",
      "51  631  599  778  282\n",
      "52  820  147  455  552\n",
      "53  372  648  754  320\n",
      "54  628  846  378  275\n",
      "55  892  732  668  447\n",
      "56  894  143  548  434\n",
      "57  860  220  653  489\n",
      "58  253  594  767  156\n",
      "59  802  675  557  625\n",
      "      0    1    2    3\n",
      "60  232   82  728    2\n",
      "61  796  170  749  692\n",
      "62  846  788  490  714\n",
      "63  474   77  116  543\n",
      "64  730  672  874  406\n",
      "65  564  405  378  730\n",
      "66  257  861  895  169\n",
      "67   55  520  982  816\n",
      "68  232   82  728    2\n",
      "69  796  170  749  692\n",
      "      0    1    2    3\n",
      "70  846  788  490  714\n",
      "71  474   77  116  543\n",
      "72  730  672  874  406\n",
      "73  564  405  378  730\n",
      "74  257  861  895  169\n",
      "75   55  520  982  816\n",
      "76  232   82  728    2\n",
      "77  796  170  749  692\n",
      "78  846  788  490  714\n",
      "79  474   77  116  543\n",
      "      0    1    2    3\n",
      "80  730  672  874  406\n",
      "81  564  405  378  730\n",
      "82  257  861  895  169\n",
      "83   55  520  982  816\n",
      "84  232   82  728    2\n",
      "85  796  170  749  692\n",
      "86  846  788  490  714\n",
      "87  474   77  116  543\n",
      "88  730  672  874  406\n",
      "89  564  405  378  730\n",
      "      0    1    2    3\n",
      "90  257  861  895  169\n",
      "91   55  520  982  816\n",
      "92  232   82  728    2\n",
      "93  796  170  749  692\n",
      "94  846  788  490  714\n",
      "95  474   77  116  543\n",
      "96  730  672  874  406\n",
      "97  564  405  378  730\n",
      "98  257  861  895  169\n",
      "99   55  520  982  816\n",
      "       0    1    2    3\n",
      "100  232   82  728    2\n",
      "101  796  170  749  692\n",
      "102  846  788  490  714\n",
      "103  474   77  116  543\n",
      "104  730  672  874  406\n",
      "105  564  405  378  730\n",
      "106  257  861  895  169\n",
      "107   55  520  982  816\n",
      "Time taken with chunk:  0.03191351890563965 sec\n"
     ]
    }
   ],
   "source": [
    "start = time.time()\n",
    "for chunk in pd.read_csv(\"tmp.csv\", chunksize = 10):\n",
    "    print(chunk)\n",
    "end = time.time()\n",
    "print(\"Time taken with chunk: \", (end - start), \"sec\")"
   ]
  },
  {
   "cell_type": "code",
   "execution_count": null,
   "metadata": {},
   "outputs": [],
   "source": []
  }
 ],
 "metadata": {
  "kernelspec": {
   "display_name": "Python 3",
   "language": "python",
   "name": "python3"
  },
  "language_info": {
   "codemirror_mode": {
    "name": "ipython",
    "version": 3
   },
   "file_extension": ".py",
   "mimetype": "text/x-python",
   "name": "python",
   "nbconvert_exporter": "python",
   "pygments_lexer": "ipython3",
   "version": "3.8.3"
  }
 },
 "nbformat": 4,
 "nbformat_minor": 4
}