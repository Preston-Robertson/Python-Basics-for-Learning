{
 "cells": [
  {
   "cell_type": "code",
   "execution_count": 1,
   "metadata": {},
   "outputs": [
    {
     "data": {
      "text/plain": [
       "'C:\\\\Spark\\\\spark-3.1.2-bin-hadoop3.2'"
      ]
     },
     "execution_count": 1,
     "metadata": {},
     "output_type": "execute_result"
    }
   ],
   "source": [
    "import findspark\n",
    "findspark.init()\n",
    "findspark.find()\n",
    "import pyspark\n",
    "findspark.find()"
   ]
  },
  {
   "cell_type": "markdown",
   "metadata": {},
   "source": [
    "# Default Parameters"
   ]
  },
  {
   "cell_type": "code",
   "execution_count": 2,
   "metadata": {},
   "outputs": [],
   "source": [
    "filename = \"bank-full.csv\"\n",
    "target_variable_name = \"y\""
   ]
  },
  {
   "cell_type": "markdown",
   "metadata": {},
   "source": [
    "# Load Dataset"
   ]
  },
  {
   "cell_type": "code",
   "execution_count": 3,
   "metadata": {},
   "outputs": [
    {
     "name": "stdout",
     "output_type": "stream",
     "text": [
      "+---+------------+--------+---------+-------+-------+-------+----+-------+---+-----+--------+--------+-----+--------+--------+---+\n",
      "|age|         job| marital|education|default|balance|housing|loan|contact|day|month|duration|campaign|pdays|previous|poutcome|  y|\n",
      "+---+------------+--------+---------+-------+-------+-------+----+-------+---+-----+--------+--------+-----+--------+--------+---+\n",
      "| 58|  management| married| tertiary|     no|   2143|    yes|  no|unknown|  5|  may|     261|       1|   -1|       0| unknown| no|\n",
      "| 44|  technician|  single|secondary|     no|     29|    yes|  no|unknown|  5|  may|     151|       1|   -1|       0| unknown| no|\n",
      "| 33|entrepreneur| married|secondary|     no|      2|    yes| yes|unknown|  5|  may|      76|       1|   -1|       0| unknown| no|\n",
      "| 47| blue-collar| married|  unknown|     no|   1506|    yes|  no|unknown|  5|  may|      92|       1|   -1|       0| unknown| no|\n",
      "| 33|     unknown|  single|  unknown|     no|      1|     no|  no|unknown|  5|  may|     198|       1|   -1|       0| unknown| no|\n",
      "| 35|  management| married| tertiary|     no|    231|    yes|  no|unknown|  5|  may|     139|       1|   -1|       0| unknown| no|\n",
      "| 28|  management|  single| tertiary|     no|    447|    yes| yes|unknown|  5|  may|     217|       1|   -1|       0| unknown| no|\n",
      "| 42|entrepreneur|divorced| tertiary|    yes|      2|    yes|  no|unknown|  5|  may|     380|       1|   -1|       0| unknown| no|\n",
      "| 58|     retired| married|  primary|     no|    121|    yes|  no|unknown|  5|  may|      50|       1|   -1|       0| unknown| no|\n",
      "| 43|  technician|  single|secondary|     no|    593|    yes|  no|unknown|  5|  may|      55|       1|   -1|       0| unknown| no|\n",
      "| 41|      admin.|divorced|secondary|     no|    270|    yes|  no|unknown|  5|  may|     222|       1|   -1|       0| unknown| no|\n",
      "| 29|      admin.|  single|secondary|     no|    390|    yes|  no|unknown|  5|  may|     137|       1|   -1|       0| unknown| no|\n",
      "| 53|  technician| married|secondary|     no|      6|    yes|  no|unknown|  5|  may|     517|       1|   -1|       0| unknown| no|\n",
      "| 58|  technician| married|  unknown|     no|     71|    yes|  no|unknown|  5|  may|      71|       1|   -1|       0| unknown| no|\n",
      "| 57|    services| married|secondary|     no|    162|    yes|  no|unknown|  5|  may|     174|       1|   -1|       0| unknown| no|\n",
      "| 51|     retired| married|  primary|     no|    229|    yes|  no|unknown|  5|  may|     353|       1|   -1|       0| unknown| no|\n",
      "| 45|      admin.|  single|  unknown|     no|     13|    yes|  no|unknown|  5|  may|      98|       1|   -1|       0| unknown| no|\n",
      "| 57| blue-collar| married|  primary|     no|     52|    yes|  no|unknown|  5|  may|      38|       1|   -1|       0| unknown| no|\n",
      "| 60|     retired| married|  primary|     no|     60|    yes|  no|unknown|  5|  may|     219|       1|   -1|       0| unknown| no|\n",
      "| 33|    services| married|secondary|     no|      0|    yes|  no|unknown|  5|  may|      54|       1|   -1|       0| unknown| no|\n",
      "+---+------------+--------+---------+-------+-------+-------+----+-------+---+-----+--------+--------+-----+--------+--------+---+\n",
      "only showing top 20 rows\n",
      "\n"
     ]
    }
   ],
   "source": [
    "from pyspark.sql import SparkSession\n",
    "spark = SparkSession.builder.getOrCreate()\n",
    "df = spark.read.csv(filename, header=True, inferSchema=True, sep=';')\n",
    "df.show()"
   ]
  },
  {
   "cell_type": "markdown",
   "metadata": {},
   "source": [
    "# Identify variable types"
   ]
  },
  {
   "cell_type": "code",
   "execution_count": 4,
   "metadata": {},
   "outputs": [],
   "source": [
    "def variable_type(df):\n",
    "    \n",
    "    vars_list = df.dtypes\n",
    "    char_vars = []\n",
    "    num_vars = []\n",
    "    for i in vars_list:\n",
    "        if i[1] in ('string'):\n",
    "            char_vars.append(i[0])\n",
    "        else:\n",
    "            num_vars.append(i[0])\n",
    "    \n",
    "    return char_vars, num_vars"
   ]
  },
  {
   "cell_type": "code",
   "execution_count": 5,
   "metadata": {},
   "outputs": [],
   "source": [
    "char_vars, num_vars = variable_type(df)"
   ]
  },
  {
   "cell_type": "code",
   "execution_count": 6,
   "metadata": {},
   "outputs": [
    {
     "data": {
      "text/plain": [
       "['job',\n",
       " 'marital',\n",
       " 'education',\n",
       " 'default',\n",
       " 'housing',\n",
       " 'loan',\n",
       " 'contact',\n",
       " 'month',\n",
       " 'poutcome',\n",
       " 'y']"
      ]
     },
     "execution_count": 6,
     "metadata": {},
     "output_type": "execute_result"
    }
   ],
   "source": [
    "char_vars"
   ]
  },
  {
   "cell_type": "code",
   "execution_count": 7,
   "metadata": {},
   "outputs": [
    {
     "data": {
      "text/plain": [
       "['age', 'balance', 'day', 'duration', 'campaign', 'pdays', 'previous']"
      ]
     },
     "execution_count": 7,
     "metadata": {},
     "output_type": "execute_result"
    }
   ],
   "source": [
    "num_vars"
   ]
  },
  {
   "cell_type": "code",
   "execution_count": 8,
   "metadata": {},
   "outputs": [],
   "source": [
    "from pyspark.ml.feature import StringIndexer\n",
    "from pyspark.ml import Pipeline\n",
    "\n",
    "def category_to_index(df, char_vars):\n",
    "    \n",
    "    char_df = df.select(char_vars)\n",
    "    indexers = [StringIndexer(inputCol=c, outputCol=c+\"_index\", handleInvalid=\"keep\") for c in char_df.columns]\n",
    "    pipeline = Pipeline(stages=indexers)\n",
    "    char_labels = pipeline.fit(char_df)\n",
    "    df = char_labels.transform(df)\n",
    "    return df, char_labels"
   ]
  },
  {
   "cell_type": "code",
   "execution_count": 9,
   "metadata": {},
   "outputs": [],
   "source": [
    "df, char_labels = category_to_index(df, char_vars)"
   ]
  },
  {
   "cell_type": "code",
   "execution_count": 10,
   "metadata": {},
   "outputs": [
    {
     "data": {
      "text/plain": [
       "[('age', 'int'),\n",
       " ('job', 'string'),\n",
       " ('marital', 'string'),\n",
       " ('education', 'string'),\n",
       " ('default', 'string'),\n",
       " ('balance', 'int'),\n",
       " ('housing', 'string'),\n",
       " ('loan', 'string'),\n",
       " ('contact', 'string'),\n",
       " ('day', 'int'),\n",
       " ('month', 'string'),\n",
       " ('duration', 'int'),\n",
       " ('campaign', 'int'),\n",
       " ('pdays', 'int'),\n",
       " ('previous', 'int'),\n",
       " ('poutcome', 'string'),\n",
       " ('y', 'string'),\n",
       " ('job_index', 'double'),\n",
       " ('marital_index', 'double'),\n",
       " ('education_index', 'double'),\n",
       " ('default_index', 'double'),\n",
       " ('housing_index', 'double'),\n",
       " ('loan_index', 'double'),\n",
       " ('contact_index', 'double'),\n",
       " ('month_index', 'double'),\n",
       " ('poutcome_index', 'double'),\n",
       " ('y_index', 'double')]"
      ]
     },
     "execution_count": 10,
     "metadata": {},
     "output_type": "execute_result"
    }
   ],
   "source": [
    "df.dtypes"
   ]
  },
  {
   "cell_type": "code",
   "execution_count": 11,
   "metadata": {},
   "outputs": [],
   "source": [
    "df = df.select([c for c in df.columns if c not in char_vars])"
   ]
  },
  {
   "cell_type": "code",
   "execution_count": 12,
   "metadata": {},
   "outputs": [],
   "source": [
    "from pyspark.sql.functions import col\n",
    "\n",
    "def rename_columns(df, char_vars):\n",
    "    mapping = dict(zip([i + '_index' for i in char_vars], char_vars))\n",
    "    df = df.select([col(c).alias(mapping.get(c, c)) for c in df.columns])\n",
    "    return df"
   ]
  },
  {
   "cell_type": "code",
   "execution_count": 13,
   "metadata": {},
   "outputs": [],
   "source": [
    "df = rename_columns(df, char_vars)"
   ]
  },
  {
   "cell_type": "code",
   "execution_count": 14,
   "metadata": {},
   "outputs": [
    {
     "data": {
      "text/plain": [
       "[('age', 'int'),\n",
       " ('balance', 'int'),\n",
       " ('day', 'int'),\n",
       " ('duration', 'int'),\n",
       " ('campaign', 'int'),\n",
       " ('pdays', 'int'),\n",
       " ('previous', 'int'),\n",
       " ('job', 'double'),\n",
       " ('marital', 'double'),\n",
       " ('education', 'double'),\n",
       " ('default', 'double'),\n",
       " ('housing', 'double'),\n",
       " ('loan', 'double'),\n",
       " ('contact', 'double'),\n",
       " ('month', 'double'),\n",
       " ('poutcome', 'double'),\n",
       " ('y', 'double')]"
      ]
     },
     "execution_count": 14,
     "metadata": {},
     "output_type": "execute_result"
    }
   ],
   "source": [
    "df.dtypes"
   ]
  },
  {
   "cell_type": "code",
   "execution_count": 15,
   "metadata": {},
   "outputs": [
    {
     "name": "stdout",
     "output_type": "stream",
     "text": [
      "+---+-----+\n",
      "|  y|count|\n",
      "+---+-----+\n",
      "|0.0|39922|\n",
      "|1.0| 5289|\n",
      "+---+-----+\n",
      "\n"
     ]
    }
   ],
   "source": [
    "df.groupBy('y').count().show() "
   ]
  },
  {
   "cell_type": "markdown",
   "metadata": {},
   "source": [
    "# Assemble input vectors"
   ]
  },
  {
   "cell_type": "code",
   "execution_count": 16,
   "metadata": {},
   "outputs": [],
   "source": [
    "from pyspark.ml.feature import VectorAssembler\n",
    "\n",
    "#assemble individual columns to one column - 'features'\n",
    "def assemble_vectors(df, features_list, target_variable_name):\n",
    "    stages = []\n",
    "    #assemble vectors\n",
    "    assembler = VectorAssembler(inputCols=features_list, outputCol='features')\n",
    "    stages = [assembler]\n",
    "    #select all the columns + target + newly created 'features' column\n",
    "    selectedCols = [target_variable_name, 'features'] + features_list\n",
    "    #use pipeline to process sequentially\n",
    "    pipeline = Pipeline(stages=stages)\n",
    "    #assembler model\n",
    "    assembleModel = pipeline.fit(df)\n",
    "    #apply assembler model on data\n",
    "    df = assembleModel.transform(df).select(selectedCols)\n",
    "\n",
    "    return df"
   ]
  },
  {
   "cell_type": "code",
   "execution_count": 17,
   "metadata": {},
   "outputs": [],
   "source": [
    "#exclude target variable and select all other feature vectors\n",
    "features_list = df.columns\n",
    "features_list.remove(target_variable_name)"
   ]
  },
  {
   "cell_type": "code",
   "execution_count": 18,
   "metadata": {},
   "outputs": [
    {
     "data": {
      "text/plain": [
       "['age',\n",
       " 'balance',\n",
       " 'day',\n",
       " 'duration',\n",
       " 'campaign',\n",
       " 'pdays',\n",
       " 'previous',\n",
       " 'job',\n",
       " 'marital',\n",
       " 'education',\n",
       " 'default',\n",
       " 'housing',\n",
       " 'loan',\n",
       " 'contact',\n",
       " 'month',\n",
       " 'poutcome']"
      ]
     },
     "execution_count": 18,
     "metadata": {},
     "output_type": "execute_result"
    }
   ],
   "source": [
    "features_list"
   ]
  },
  {
   "cell_type": "code",
   "execution_count": 19,
   "metadata": {},
   "outputs": [],
   "source": [
    "# apply the function on our dataframe\n",
    "df = assemble_vectors(df, features_list, target_variable_name)"
   ]
  },
  {
   "cell_type": "code",
   "execution_count": 20,
   "metadata": {},
   "outputs": [
    {
     "name": "stdout",
     "output_type": "stream",
     "text": [
      "+---+--------------------+---+-------+---+--------+--------+-----+--------+----+-------+---------+-------+-------+----+-------+-----+--------+\n",
      "|  y|            features|age|balance|day|duration|campaign|pdays|previous| job|marital|education|default|housing|loan|contact|month|poutcome|\n",
      "+---+--------------------+---+-------+---+--------+--------+-----+--------+----+-------+---------+-------+-------+----+-------+-----+--------+\n",
      "|0.0|(16,[0,1,2,3,4,5,...| 58|   2143|  5|     261|       1|   -1|       0| 1.0|    0.0|      1.0|    0.0|    0.0| 0.0|    1.0|  0.0|     0.0|\n",
      "|0.0|(16,[0,1,2,3,4,5,...| 44|     29|  5|     151|       1|   -1|       0| 2.0|    1.0|      0.0|    0.0|    0.0| 0.0|    1.0|  0.0|     0.0|\n",
      "|0.0|(16,[0,1,2,3,4,5,...| 33|      2|  5|      76|       1|   -1|       0| 7.0|    0.0|      0.0|    0.0|    0.0| 1.0|    1.0|  0.0|     0.0|\n",
      "|0.0|(16,[0,1,2,3,4,5,...| 47|   1506|  5|      92|       1|   -1|       0| 0.0|    0.0|      3.0|    0.0|    0.0| 0.0|    1.0|  0.0|     0.0|\n",
      "|0.0|[33.0,1.0,5.0,198...| 33|      1|  5|     198|       1|   -1|       0|11.0|    1.0|      3.0|    0.0|    1.0| 0.0|    1.0|  0.0|     0.0|\n",
      "|0.0|(16,[0,1,2,3,4,5,...| 35|    231|  5|     139|       1|   -1|       0| 1.0|    0.0|      1.0|    0.0|    0.0| 0.0|    1.0|  0.0|     0.0|\n",
      "|0.0|[28.0,447.0,5.0,2...| 28|    447|  5|     217|       1|   -1|       0| 1.0|    1.0|      1.0|    0.0|    0.0| 1.0|    1.0|  0.0|     0.0|\n",
      "|0.0|[42.0,2.0,5.0,380...| 42|      2|  5|     380|       1|   -1|       0| 7.0|    2.0|      1.0|    1.0|    0.0| 0.0|    1.0|  0.0|     0.0|\n",
      "|0.0|(16,[0,1,2,3,4,5,...| 58|    121|  5|      50|       1|   -1|       0| 5.0|    0.0|      2.0|    0.0|    0.0| 0.0|    1.0|  0.0|     0.0|\n",
      "|0.0|(16,[0,1,2,3,4,5,...| 43|    593|  5|      55|       1|   -1|       0| 2.0|    1.0|      0.0|    0.0|    0.0| 0.0|    1.0|  0.0|     0.0|\n",
      "|0.0|(16,[0,1,2,3,4,5,...| 41|    270|  5|     222|       1|   -1|       0| 3.0|    2.0|      0.0|    0.0|    0.0| 0.0|    1.0|  0.0|     0.0|\n",
      "|0.0|(16,[0,1,2,3,4,5,...| 29|    390|  5|     137|       1|   -1|       0| 3.0|    1.0|      0.0|    0.0|    0.0| 0.0|    1.0|  0.0|     0.0|\n",
      "|0.0|(16,[0,1,2,3,4,5,...| 53|      6|  5|     517|       1|   -1|       0| 2.0|    0.0|      0.0|    0.0|    0.0| 0.0|    1.0|  0.0|     0.0|\n",
      "|0.0|(16,[0,1,2,3,4,5,...| 58|     71|  5|      71|       1|   -1|       0| 2.0|    0.0|      3.0|    0.0|    0.0| 0.0|    1.0|  0.0|     0.0|\n",
      "|0.0|(16,[0,1,2,3,4,5,...| 57|    162|  5|     174|       1|   -1|       0| 4.0|    0.0|      0.0|    0.0|    0.0| 0.0|    1.0|  0.0|     0.0|\n",
      "|0.0|(16,[0,1,2,3,4,5,...| 51|    229|  5|     353|       1|   -1|       0| 5.0|    0.0|      2.0|    0.0|    0.0| 0.0|    1.0|  0.0|     0.0|\n",
      "|0.0|[45.0,13.0,5.0,98...| 45|     13|  5|      98|       1|   -1|       0| 3.0|    1.0|      3.0|    0.0|    0.0| 0.0|    1.0|  0.0|     0.0|\n",
      "|0.0|(16,[0,1,2,3,4,5,...| 57|     52|  5|      38|       1|   -1|       0| 0.0|    0.0|      2.0|    0.0|    0.0| 0.0|    1.0|  0.0|     0.0|\n",
      "|0.0|(16,[0,1,2,3,4,5,...| 60|     60|  5|     219|       1|   -1|       0| 5.0|    0.0|      2.0|    0.0|    0.0| 0.0|    1.0|  0.0|     0.0|\n",
      "|0.0|(16,[0,2,3,4,5,7,...| 33|      0|  5|      54|       1|   -1|       0| 4.0|    0.0|      0.0|    0.0|    0.0| 0.0|    1.0|  0.0|     0.0|\n",
      "+---+--------------------+---+-------+---+--------+--------+-----+--------+----+-------+---------+-------+-------+----+-------+-----+--------+\n",
      "only showing top 20 rows\n",
      "\n"
     ]
    }
   ],
   "source": [
    "df.show()"
   ]
  },
  {
   "cell_type": "code",
   "execution_count": 21,
   "metadata": {},
   "outputs": [
    {
     "data": {
      "text/plain": [
       "{'numeric': [{'idx': 0, 'name': 'age'},\n",
       "  {'idx': 1, 'name': 'balance'},\n",
       "  {'idx': 2, 'name': 'day'},\n",
       "  {'idx': 3, 'name': 'duration'},\n",
       "  {'idx': 4, 'name': 'campaign'},\n",
       "  {'idx': 5, 'name': 'pdays'},\n",
       "  {'idx': 6, 'name': 'previous'}],\n",
       " 'nominal': [{'vals': ['blue-collar',\n",
       "    'management',\n",
       "    'technician',\n",
       "    'admin.',\n",
       "    'services',\n",
       "    'retired',\n",
       "    'self-employed',\n",
       "    'entrepreneur',\n",
       "    'unemployed',\n",
       "    'housemaid',\n",
       "    'student',\n",
       "    'unknown',\n",
       "    '__unknown'],\n",
       "   'idx': 7,\n",
       "   'name': 'job'},\n",
       "  {'vals': ['married', 'single', 'divorced', '__unknown'],\n",
       "   'idx': 8,\n",
       "   'name': 'marital'},\n",
       "  {'vals': ['secondary', 'tertiary', 'primary', 'unknown', '__unknown'],\n",
       "   'idx': 9,\n",
       "   'name': 'education'},\n",
       "  {'vals': ['no', 'yes', '__unknown'], 'idx': 10, 'name': 'default'},\n",
       "  {'vals': ['yes', 'no', '__unknown'], 'idx': 11, 'name': 'housing'},\n",
       "  {'vals': ['no', 'yes', '__unknown'], 'idx': 12, 'name': 'loan'},\n",
       "  {'vals': ['cellular', 'unknown', 'telephone', '__unknown'],\n",
       "   'idx': 13,\n",
       "   'name': 'contact'},\n",
       "  {'vals': ['may',\n",
       "    'jul',\n",
       "    'aug',\n",
       "    'jun',\n",
       "    'nov',\n",
       "    'apr',\n",
       "    'feb',\n",
       "    'jan',\n",
       "    'oct',\n",
       "    'sep',\n",
       "    'mar',\n",
       "    'dec',\n",
       "    '__unknown'],\n",
       "   'idx': 14,\n",
       "   'name': 'month'},\n",
       "  {'vals': ['unknown', 'failure', 'other', 'success', '__unknown'],\n",
       "   'idx': 15,\n",
       "   'name': 'poutcome'}]}"
      ]
     },
     "execution_count": 21,
     "metadata": {},
     "output_type": "execute_result"
    }
   ],
   "source": [
    "df.schema[\"features\"].metadata[\"ml_attr\"][\"attrs\"]"
   ]
  },
  {
   "cell_type": "code",
   "execution_count": 22,
   "metadata": {},
   "outputs": [],
   "source": [
    "import pandas as pd\n",
    "for k, v in df.schema[\"features\"].metadata[\"ml_attr\"][\"attrs\"].items():\n",
    "    features_df = pd.DataFrame(v)"
   ]
  },
  {
   "cell_type": "code",
   "execution_count": 23,
   "metadata": {},
   "outputs": [
    {
     "data": {
      "text/html": [
       "<div>\n",
       "<style scoped>\n",
       "    .dataframe tbody tr th:only-of-type {\n",
       "        vertical-align: middle;\n",
       "    }\n",
       "\n",
       "    .dataframe tbody tr th {\n",
       "        vertical-align: top;\n",
       "    }\n",
       "\n",
       "    .dataframe thead th {\n",
       "        text-align: right;\n",
       "    }\n",
       "</style>\n",
       "<table border=\"1\" class=\"dataframe\">\n",
       "  <thead>\n",
       "    <tr style=\"text-align: right;\">\n",
       "      <th></th>\n",
       "      <th>vals</th>\n",
       "      <th>idx</th>\n",
       "      <th>name</th>\n",
       "    </tr>\n",
       "  </thead>\n",
       "  <tbody>\n",
       "    <tr>\n",
       "      <th>0</th>\n",
       "      <td>[blue-collar, management, technician, admin., ...</td>\n",
       "      <td>7</td>\n",
       "      <td>job</td>\n",
       "    </tr>\n",
       "    <tr>\n",
       "      <th>1</th>\n",
       "      <td>[married, single, divorced, __unknown]</td>\n",
       "      <td>8</td>\n",
       "      <td>marital</td>\n",
       "    </tr>\n",
       "    <tr>\n",
       "      <th>2</th>\n",
       "      <td>[secondary, tertiary, primary, unknown, __unkn...</td>\n",
       "      <td>9</td>\n",
       "      <td>education</td>\n",
       "    </tr>\n",
       "    <tr>\n",
       "      <th>3</th>\n",
       "      <td>[no, yes, __unknown]</td>\n",
       "      <td>10</td>\n",
       "      <td>default</td>\n",
       "    </tr>\n",
       "    <tr>\n",
       "      <th>4</th>\n",
       "      <td>[yes, no, __unknown]</td>\n",
       "      <td>11</td>\n",
       "      <td>housing</td>\n",
       "    </tr>\n",
       "    <tr>\n",
       "      <th>5</th>\n",
       "      <td>[no, yes, __unknown]</td>\n",
       "      <td>12</td>\n",
       "      <td>loan</td>\n",
       "    </tr>\n",
       "    <tr>\n",
       "      <th>6</th>\n",
       "      <td>[cellular, unknown, telephone, __unknown]</td>\n",
       "      <td>13</td>\n",
       "      <td>contact</td>\n",
       "    </tr>\n",
       "    <tr>\n",
       "      <th>7</th>\n",
       "      <td>[may, jul, aug, jun, nov, apr, feb, jan, oct, ...</td>\n",
       "      <td>14</td>\n",
       "      <td>month</td>\n",
       "    </tr>\n",
       "    <tr>\n",
       "      <th>8</th>\n",
       "      <td>[unknown, failure, other, success, __unknown]</td>\n",
       "      <td>15</td>\n",
       "      <td>poutcome</td>\n",
       "    </tr>\n",
       "  </tbody>\n",
       "</table>\n",
       "</div>"
      ],
      "text/plain": [
       "                                                vals  idx       name\n",
       "0  [blue-collar, management, technician, admin., ...    7        job\n",
       "1             [married, single, divorced, __unknown]    8    marital\n",
       "2  [secondary, tertiary, primary, unknown, __unkn...    9  education\n",
       "3                               [no, yes, __unknown]   10    default\n",
       "4                               [yes, no, __unknown]   11    housing\n",
       "5                               [no, yes, __unknown]   12       loan\n",
       "6          [cellular, unknown, telephone, __unknown]   13    contact\n",
       "7  [may, jul, aug, jun, nov, apr, feb, jan, oct, ...   14      month\n",
       "8      [unknown, failure, other, success, __unknown]   15   poutcome"
      ]
     },
     "execution_count": 23,
     "metadata": {},
     "output_type": "execute_result"
    }
   ],
   "source": [
    "features_df"
   ]
  },
  {
   "cell_type": "markdown",
   "metadata": {},
   "source": [
    "# Model based feature selection"
   ]
  },
  {
   "cell_type": "markdown",
   "metadata": {},
   "source": [
    "# Implement decision tree feature importance. Compare and contrast with Random Forest output."
   ]
  },
  {
   "cell_type": "code",
   "execution_count": 24,
   "metadata": {},
   "outputs": [
    {
     "data": {
      "text/plain": [
       "SparseVector(16, {1: 0.0018, 2: 0.0024, 3: 0.5518, 8: 0.002, 9: 0.0009, 11: 0.0042, 13: 0.0051, 14: 0.1179, 15: 0.3138})"
      ]
     },
     "execution_count": 24,
     "metadata": {},
     "output_type": "execute_result"
    }
   ],
   "source": [
    "from pyspark.ml.classification import DecisionTreeClassifier\n",
    "\n",
    "dt = DecisionTreeClassifier(featuresCol='features', labelCol=target_variable_name)\n",
    "dt_model = dt.fit(df)\n",
    "dt_model.featureImportances"
   ]
  },
  {
   "cell_type": "code",
   "execution_count": 34,
   "metadata": {},
   "outputs": [],
   "source": [
    "#temporary output rf_output\n",
    "dt_output = dt_model.featureImportances\n",
    "features_df['Decision_Tree'] = features_df['idx'].apply(lambda x: dt_output[x] if x in dt_output.indices  else 0)"
   ]
  },
  {
   "cell_type": "code",
   "execution_count": 31,
   "metadata": {},
   "outputs": [],
   "source": [
    "#sort values based on descending importance feature\n",
    "features_df.sort_values(\"Decision_Tree\", ascending=False, inplace=True)"
   ]
  },
  {
   "cell_type": "code",
   "execution_count": 32,
   "metadata": {},
   "outputs": [
    {
     "data": {
      "text/html": [
       "<div>\n",
       "<style scoped>\n",
       "    .dataframe tbody tr th:only-of-type {\n",
       "        vertical-align: middle;\n",
       "    }\n",
       "\n",
       "    .dataframe tbody tr th {\n",
       "        vertical-align: top;\n",
       "    }\n",
       "\n",
       "    .dataframe thead th {\n",
       "        text-align: right;\n",
       "    }\n",
       "</style>\n",
       "<table border=\"1\" class=\"dataframe\">\n",
       "  <thead>\n",
       "    <tr style=\"text-align: right;\">\n",
       "      <th></th>\n",
       "      <th>vals</th>\n",
       "      <th>idx</th>\n",
       "      <th>name</th>\n",
       "      <th>Decision_Tree</th>\n",
       "    </tr>\n",
       "  </thead>\n",
       "  <tbody>\n",
       "    <tr>\n",
       "      <th>8</th>\n",
       "      <td>[unknown, failure, other, success, __unknown]</td>\n",
       "      <td>15</td>\n",
       "      <td>poutcome</td>\n",
       "      <td>0.313818</td>\n",
       "    </tr>\n",
       "    <tr>\n",
       "      <th>7</th>\n",
       "      <td>[may, jul, aug, jun, nov, apr, feb, jan, oct, ...</td>\n",
       "      <td>14</td>\n",
       "      <td>month</td>\n",
       "      <td>0.117944</td>\n",
       "    </tr>\n",
       "    <tr>\n",
       "      <th>6</th>\n",
       "      <td>[cellular, unknown, telephone, __unknown]</td>\n",
       "      <td>13</td>\n",
       "      <td>contact</td>\n",
       "      <td>0.005058</td>\n",
       "    </tr>\n",
       "    <tr>\n",
       "      <th>4</th>\n",
       "      <td>[yes, no, __unknown]</td>\n",
       "      <td>11</td>\n",
       "      <td>housing</td>\n",
       "      <td>0.004203</td>\n",
       "    </tr>\n",
       "    <tr>\n",
       "      <th>1</th>\n",
       "      <td>[married, single, divorced, __unknown]</td>\n",
       "      <td>8</td>\n",
       "      <td>marital</td>\n",
       "      <td>0.002022</td>\n",
       "    </tr>\n",
       "    <tr>\n",
       "      <th>2</th>\n",
       "      <td>[secondary, tertiary, primary, unknown, __unkn...</td>\n",
       "      <td>9</td>\n",
       "      <td>education</td>\n",
       "      <td>0.000896</td>\n",
       "    </tr>\n",
       "    <tr>\n",
       "      <th>0</th>\n",
       "      <td>[blue-collar, management, technician, admin., ...</td>\n",
       "      <td>7</td>\n",
       "      <td>job</td>\n",
       "      <td>0.000000</td>\n",
       "    </tr>\n",
       "    <tr>\n",
       "      <th>3</th>\n",
       "      <td>[no, yes, __unknown]</td>\n",
       "      <td>10</td>\n",
       "      <td>default</td>\n",
       "      <td>0.000000</td>\n",
       "    </tr>\n",
       "    <tr>\n",
       "      <th>5</th>\n",
       "      <td>[no, yes, __unknown]</td>\n",
       "      <td>12</td>\n",
       "      <td>loan</td>\n",
       "      <td>0.000000</td>\n",
       "    </tr>\n",
       "  </tbody>\n",
       "</table>\n",
       "</div>"
      ],
      "text/plain": [
       "                                                vals  idx       name  \\\n",
       "8      [unknown, failure, other, success, __unknown]   15   poutcome   \n",
       "7  [may, jul, aug, jun, nov, apr, feb, jan, oct, ...   14      month   \n",
       "6          [cellular, unknown, telephone, __unknown]   13    contact   \n",
       "4                               [yes, no, __unknown]   11    housing   \n",
       "1             [married, single, divorced, __unknown]    8    marital   \n",
       "2  [secondary, tertiary, primary, unknown, __unkn...    9  education   \n",
       "0  [blue-collar, management, technician, admin., ...    7        job   \n",
       "3                               [no, yes, __unknown]   10    default   \n",
       "5                               [no, yes, __unknown]   12       loan   \n",
       "\n",
       "   Decision_Tree  \n",
       "8       0.313818  \n",
       "7       0.117944  \n",
       "6       0.005058  \n",
       "4       0.004203  \n",
       "1       0.002022  \n",
       "2       0.000896  \n",
       "0       0.000000  \n",
       "3       0.000000  \n",
       "5       0.000000  "
      ]
     },
     "execution_count": 32,
     "metadata": {},
     "output_type": "execute_result"
    }
   ],
   "source": [
    "features_df"
   ]
  },
  {
   "cell_type": "markdown",
   "metadata": {},
   "source": [
    "# Implement gradient boosted tree feature importance. Compare and contrast with Random Forest output."
   ]
  },
  {
   "cell_type": "code",
   "execution_count": 35,
   "metadata": {},
   "outputs": [
    {
     "data": {
      "text/plain": [
       "SparseVector(16, {0: 0.029, 1: 0.0107, 2: 0.0851, 3: 0.3006, 4: 0.0107, 5: 0.0421, 6: 0.0038, 7: 0.0291, 8: 0.0126, 9: 0.0042, 10: 0.0011, 11: 0.0505, 12: 0.0024, 13: 0.0546, 14: 0.3028, 15: 0.0609})"
      ]
     },
     "execution_count": 35,
     "metadata": {},
     "output_type": "execute_result"
    }
   ],
   "source": [
    "from pyspark.ml.classification import GBTClassifier\n",
    "gb = GBTClassifier(featuresCol='features', labelCol=target_variable_name)\n",
    "gb_model = gb.fit(df)\n",
    "gb_model.featureImportances"
   ]
  },
  {
   "cell_type": "code",
   "execution_count": 36,
   "metadata": {},
   "outputs": [],
   "source": [
    "#temporary output rf_output\n",
    "gb_output = gb_model.featureImportances\n",
    "features_df['Gradient Boosting'] = features_df['idx'].apply(lambda x: gb_output[x] if x in gb_output.indices else 0)"
   ]
  },
  {
   "cell_type": "code",
   "execution_count": 37,
   "metadata": {},
   "outputs": [],
   "source": [
    "#sort values based on descending importance feature\n",
    "features_df.sort_values(\"Gradient Boosting\", ascending=False, inplace=True)"
   ]
  },
  {
   "cell_type": "code",
   "execution_count": 38,
   "metadata": {},
   "outputs": [
    {
     "data": {
      "text/html": [
       "<div>\n",
       "<style scoped>\n",
       "    .dataframe tbody tr th:only-of-type {\n",
       "        vertical-align: middle;\n",
       "    }\n",
       "\n",
       "    .dataframe tbody tr th {\n",
       "        vertical-align: top;\n",
       "    }\n",
       "\n",
       "    .dataframe thead th {\n",
       "        text-align: right;\n",
       "    }\n",
       "</style>\n",
       "<table border=\"1\" class=\"dataframe\">\n",
       "  <thead>\n",
       "    <tr style=\"text-align: right;\">\n",
       "      <th></th>\n",
       "      <th>vals</th>\n",
       "      <th>idx</th>\n",
       "      <th>name</th>\n",
       "      <th>Decision_Tree</th>\n",
       "      <th>Gradient Boosting</th>\n",
       "    </tr>\n",
       "  </thead>\n",
       "  <tbody>\n",
       "    <tr>\n",
       "      <th>7</th>\n",
       "      <td>[may, jul, aug, jun, nov, apr, feb, jan, oct, ...</td>\n",
       "      <td>14</td>\n",
       "      <td>month</td>\n",
       "      <td>0.117944</td>\n",
       "      <td>0.302793</td>\n",
       "    </tr>\n",
       "    <tr>\n",
       "      <th>8</th>\n",
       "      <td>[unknown, failure, other, success, __unknown]</td>\n",
       "      <td>15</td>\n",
       "      <td>poutcome</td>\n",
       "      <td>0.313818</td>\n",
       "      <td>0.060921</td>\n",
       "    </tr>\n",
       "    <tr>\n",
       "      <th>6</th>\n",
       "      <td>[cellular, unknown, telephone, __unknown]</td>\n",
       "      <td>13</td>\n",
       "      <td>contact</td>\n",
       "      <td>0.005058</td>\n",
       "      <td>0.054572</td>\n",
       "    </tr>\n",
       "    <tr>\n",
       "      <th>4</th>\n",
       "      <td>[yes, no, __unknown]</td>\n",
       "      <td>11</td>\n",
       "      <td>housing</td>\n",
       "      <td>0.004203</td>\n",
       "      <td>0.050522</td>\n",
       "    </tr>\n",
       "    <tr>\n",
       "      <th>0</th>\n",
       "      <td>[blue-collar, management, technician, admin., ...</td>\n",
       "      <td>7</td>\n",
       "      <td>job</td>\n",
       "      <td>0.000000</td>\n",
       "      <td>0.029058</td>\n",
       "    </tr>\n",
       "    <tr>\n",
       "      <th>1</th>\n",
       "      <td>[married, single, divorced, __unknown]</td>\n",
       "      <td>8</td>\n",
       "      <td>marital</td>\n",
       "      <td>0.002022</td>\n",
       "      <td>0.012554</td>\n",
       "    </tr>\n",
       "    <tr>\n",
       "      <th>2</th>\n",
       "      <td>[secondary, tertiary, primary, unknown, __unkn...</td>\n",
       "      <td>9</td>\n",
       "      <td>education</td>\n",
       "      <td>0.000896</td>\n",
       "      <td>0.004172</td>\n",
       "    </tr>\n",
       "    <tr>\n",
       "      <th>5</th>\n",
       "      <td>[no, yes, __unknown]</td>\n",
       "      <td>12</td>\n",
       "      <td>loan</td>\n",
       "      <td>0.000000</td>\n",
       "      <td>0.002353</td>\n",
       "    </tr>\n",
       "    <tr>\n",
       "      <th>3</th>\n",
       "      <td>[no, yes, __unknown]</td>\n",
       "      <td>10</td>\n",
       "      <td>default</td>\n",
       "      <td>0.000000</td>\n",
       "      <td>0.001085</td>\n",
       "    </tr>\n",
       "  </tbody>\n",
       "</table>\n",
       "</div>"
      ],
      "text/plain": [
       "                                                vals  idx       name  \\\n",
       "7  [may, jul, aug, jun, nov, apr, feb, jan, oct, ...   14      month   \n",
       "8      [unknown, failure, other, success, __unknown]   15   poutcome   \n",
       "6          [cellular, unknown, telephone, __unknown]   13    contact   \n",
       "4                               [yes, no, __unknown]   11    housing   \n",
       "0  [blue-collar, management, technician, admin., ...    7        job   \n",
       "1             [married, single, divorced, __unknown]    8    marital   \n",
       "2  [secondary, tertiary, primary, unknown, __unkn...    9  education   \n",
       "5                               [no, yes, __unknown]   12       loan   \n",
       "3                               [no, yes, __unknown]   10    default   \n",
       "\n",
       "   Decision_Tree  Gradient Boosting  \n",
       "7       0.117944           0.302793  \n",
       "8       0.313818           0.060921  \n",
       "6       0.005058           0.054572  \n",
       "4       0.004203           0.050522  \n",
       "0       0.000000           0.029058  \n",
       "1       0.002022           0.012554  \n",
       "2       0.000896           0.004172  \n",
       "5       0.000000           0.002353  \n",
       "3       0.000000           0.001085  "
      ]
     },
     "execution_count": 38,
     "metadata": {},
     "output_type": "execute_result"
    }
   ],
   "source": [
    "features_df"
   ]
  },
  {
   "cell_type": "markdown",
   "metadata": {},
   "source": [
    "# Random forest addition for voting based selection"
   ]
  },
  {
   "cell_type": "code",
   "execution_count": 46,
   "metadata": {},
   "outputs": [
    {
     "data": {
      "text/plain": [
       "SparseVector(16, {0: 0.0316, 1: 0.0045, 2: 0.0045, 3: 0.4569, 4: 0.0043, 5: 0.0183, 6: 0.0543, 7: 0.0073, 8: 0.004, 9: 0.0012, 10: 0.0, 11: 0.0441, 12: 0.0017, 13: 0.0345, 14: 0.169, 15: 0.1636})"
      ]
     },
     "execution_count": 46,
     "metadata": {},
     "output_type": "execute_result"
    }
   ],
   "source": [
    "from pyspark.ml.classification import RandomForestClassifier\n",
    "\n",
    "rf = RandomForestClassifier(featuresCol='features', labelCol=target_variable_name)\n",
    "rf_model = rf.fit(df)\n",
    "rf_model.featureImportances"
   ]
  },
  {
   "cell_type": "code",
   "execution_count": 47,
   "metadata": {},
   "outputs": [],
   "source": [
    "#temporary output rf_output\n",
    "rf_output = rf_model.featureImportances\n",
    "features_df['Random Forest'] = features_df['idx'].apply(lambda x: rf_output[x] if x in rf_output.indices else 0)"
   ]
  },
  {
   "cell_type": "code",
   "execution_count": 48,
   "metadata": {},
   "outputs": [],
   "source": [
    "#sort values based on descending importance feature\n",
    "features_df.sort_values(\"Random Forest\", ascending=False, inplace=True)"
   ]
  },
  {
   "cell_type": "code",
   "execution_count": 49,
   "metadata": {},
   "outputs": [
    {
     "data": {
      "text/html": [
       "<div>\n",
       "<style scoped>\n",
       "    .dataframe tbody tr th:only-of-type {\n",
       "        vertical-align: middle;\n",
       "    }\n",
       "\n",
       "    .dataframe tbody tr th {\n",
       "        vertical-align: top;\n",
       "    }\n",
       "\n",
       "    .dataframe thead th {\n",
       "        text-align: right;\n",
       "    }\n",
       "</style>\n",
       "<table border=\"1\" class=\"dataframe\">\n",
       "  <thead>\n",
       "    <tr style=\"text-align: right;\">\n",
       "      <th></th>\n",
       "      <th>vals</th>\n",
       "      <th>idx</th>\n",
       "      <th>name</th>\n",
       "      <th>Decision_Tree</th>\n",
       "      <th>Gradient Boosting</th>\n",
       "      <th>Random Forest</th>\n",
       "    </tr>\n",
       "  </thead>\n",
       "  <tbody>\n",
       "    <tr>\n",
       "      <th>7</th>\n",
       "      <td>[may, jul, aug, jun, nov, apr, feb, jan, oct, ...</td>\n",
       "      <td>14</td>\n",
       "      <td>month</td>\n",
       "      <td>0.117944</td>\n",
       "      <td>0.302793</td>\n",
       "      <td>0.168962</td>\n",
       "    </tr>\n",
       "    <tr>\n",
       "      <th>8</th>\n",
       "      <td>[unknown, failure, other, success, __unknown]</td>\n",
       "      <td>15</td>\n",
       "      <td>poutcome</td>\n",
       "      <td>0.313818</td>\n",
       "      <td>0.060921</td>\n",
       "      <td>0.163645</td>\n",
       "    </tr>\n",
       "    <tr>\n",
       "      <th>4</th>\n",
       "      <td>[yes, no, __unknown]</td>\n",
       "      <td>11</td>\n",
       "      <td>housing</td>\n",
       "      <td>0.004203</td>\n",
       "      <td>0.050522</td>\n",
       "      <td>0.044101</td>\n",
       "    </tr>\n",
       "    <tr>\n",
       "      <th>6</th>\n",
       "      <td>[cellular, unknown, telephone, __unknown]</td>\n",
       "      <td>13</td>\n",
       "      <td>contact</td>\n",
       "      <td>0.005058</td>\n",
       "      <td>0.054572</td>\n",
       "      <td>0.034483</td>\n",
       "    </tr>\n",
       "    <tr>\n",
       "      <th>0</th>\n",
       "      <td>[blue-collar, management, technician, admin., ...</td>\n",
       "      <td>7</td>\n",
       "      <td>job</td>\n",
       "      <td>0.000000</td>\n",
       "      <td>0.029058</td>\n",
       "      <td>0.007328</td>\n",
       "    </tr>\n",
       "    <tr>\n",
       "      <th>1</th>\n",
       "      <td>[married, single, divorced, __unknown]</td>\n",
       "      <td>8</td>\n",
       "      <td>marital</td>\n",
       "      <td>0.002022</td>\n",
       "      <td>0.012554</td>\n",
       "      <td>0.003989</td>\n",
       "    </tr>\n",
       "    <tr>\n",
       "      <th>5</th>\n",
       "      <td>[no, yes, __unknown]</td>\n",
       "      <td>12</td>\n",
       "      <td>loan</td>\n",
       "      <td>0.000000</td>\n",
       "      <td>0.002353</td>\n",
       "      <td>0.001698</td>\n",
       "    </tr>\n",
       "    <tr>\n",
       "      <th>2</th>\n",
       "      <td>[secondary, tertiary, primary, unknown, __unkn...</td>\n",
       "      <td>9</td>\n",
       "      <td>education</td>\n",
       "      <td>0.000896</td>\n",
       "      <td>0.004172</td>\n",
       "      <td>0.001164</td>\n",
       "    </tr>\n",
       "    <tr>\n",
       "      <th>3</th>\n",
       "      <td>[no, yes, __unknown]</td>\n",
       "      <td>10</td>\n",
       "      <td>default</td>\n",
       "      <td>0.000000</td>\n",
       "      <td>0.001085</td>\n",
       "      <td>0.000040</td>\n",
       "    </tr>\n",
       "  </tbody>\n",
       "</table>\n",
       "</div>"
      ],
      "text/plain": [
       "                                                vals  idx       name  \\\n",
       "7  [may, jul, aug, jun, nov, apr, feb, jan, oct, ...   14      month   \n",
       "8      [unknown, failure, other, success, __unknown]   15   poutcome   \n",
       "4                               [yes, no, __unknown]   11    housing   \n",
       "6          [cellular, unknown, telephone, __unknown]   13    contact   \n",
       "0  [blue-collar, management, technician, admin., ...    7        job   \n",
       "1             [married, single, divorced, __unknown]    8    marital   \n",
       "5                               [no, yes, __unknown]   12       loan   \n",
       "2  [secondary, tertiary, primary, unknown, __unkn...    9  education   \n",
       "3                               [no, yes, __unknown]   10    default   \n",
       "\n",
       "   Decision_Tree  Gradient Boosting  Random Forest  \n",
       "7       0.117944           0.302793       0.168962  \n",
       "8       0.313818           0.060921       0.163645  \n",
       "4       0.004203           0.050522       0.044101  \n",
       "6       0.005058           0.054572       0.034483  \n",
       "0       0.000000           0.029058       0.007328  \n",
       "1       0.002022           0.012554       0.003989  \n",
       "5       0.000000           0.002353       0.001698  \n",
       "2       0.000896           0.004172       0.001164  \n",
       "3       0.000000           0.001085       0.000040  "
      ]
     },
     "execution_count": 49,
     "metadata": {},
     "output_type": "execute_result"
    }
   ],
   "source": [
    "features_df"
   ]
  },
  {
   "cell_type": "code",
   "execution_count": 55,
   "metadata": {},
   "outputs": [
    {
     "data": {
      "text/plain": [
       "Text(0, 0.5, 'Variable Importance')"
      ]
     },
     "execution_count": 55,
     "metadata": {},
     "output_type": "execute_result"
    },
    {
     "data": {
      "image/png": "[encoded data removed]",
      "text/plain": [
       "<Figure size 432x288 with 1 Axes>"
      ]
     },
     "metadata": {
      "needs_background": "light"
     },
     "output_type": "display_data"
    }
   ],
   "source": [
    "import matplotlib.pyplot as plt\n",
    "\n",
    "features_df.sort_values(\"Random Forest\", ascending=True, inplace=True)\n",
    "plt.barh(features_df['name'], features_df['Random Forest'])\n",
    "plt.title(\"Feature Importane Plot: Random Forest\")\n",
    "plt.xlabel(\"Importance Score\")\n",
    "plt.ylabel(\"Variable Importance\")"
   ]
  },
  {
   "cell_type": "code",
   "execution_count": 56,
   "metadata": {},
   "outputs": [
    {
     "data": {
      "text/plain": [
       "Text(0, 0.5, 'Variable Importance')"
      ]
     },
     "execution_count": 56,
     "metadata": {},
     "output_type": "execute_result"
    },
    {
     "data": {
      "image/png": "[encoded data removed]",
      "text/plain": [
       "<Figure size 432x288 with 1 Axes>"
      ]
     },
     "metadata": {
      "needs_background": "light"
     },
     "output_type": "display_data"
    }
   ],
   "source": [
    "import matplotlib.pyplot as plt\n",
    "\n",
    "features_df.sort_values(\"Gradient Boosting\", ascending=True, inplace=True)\n",
    "plt.barh(features_df['name'], features_df['Gradient Boosting'])\n",
    "plt.title(\"Feature Importane Plot: Gradient Boosting\")\n",
    "plt.xlabel(\"Importance Score\")\n",
    "plt.ylabel(\"Variable Importance\")"
   ]
  },
  {
   "cell_type": "code",
   "execution_count": 57,
   "metadata": {},
   "outputs": [
    {
     "data": {
      "text/plain": [
       "Text(0, 0.5, 'Variable Importance')"
      ]
     },
     "execution_count": 57,
     "metadata": {},
     "output_type": "execute_result"
    },
    {
     "data": {
      "image/png": "[encoded data removed]",
      "text/plain": [
       "<Figure size 432x288 with 1 Axes>"
      ]
     },
     "metadata": {
      "needs_background": "light"
     },
     "output_type": "display_data"
    }
   ],
   "source": [
    "import matplotlib.pyplot as plt\n",
    "\n",
    "features_df.sort_values(\"Decision_Tree\", ascending=True, inplace=True)\n",
    "plt.barh(features_df['name'], features_df['Decision_Tree'])\n",
    "plt.title(\"Feature Importane Plot: Decision Tree\")\n",
    "plt.xlabel(\"Importance Score\")\n",
    "plt.ylabel(\"Variable Importance\")"
   ]
  },
  {
   "cell_type": "markdown",
   "metadata": {},
   "source": [
    "# Voting based selection"
   ]
  },
  {
   "cell_type": "code",
   "execution_count": 50,
   "metadata": {},
   "outputs": [],
   "source": [
    "features_df.drop('idx', axis=1, inplace=True)"
   ]
  },
  {
   "cell_type": "code",
   "execution_count": 51,
   "metadata": {},
   "outputs": [],
   "source": [
    "num_top_features = 7\n",
    "columns = ['Decision_Tree', 'Gradient Boosting', 'Random Forest']\n",
    "score_table = pd.DataFrame({},[])\n",
    "score_table['name'] = features_df['name']\n",
    "for i in columns:\n",
    "    score_table[i] = features_df['name'].isin(list(features_df.nlargest(num_top_features,i)['name'])).astype(int)"
   ]
  },
  {
   "cell_type": "code",
   "execution_count": 52,
   "metadata": {},
   "outputs": [
    {
     "data": {
      "text/html": [
       "<div>\n",
       "<style scoped>\n",
       "    .dataframe tbody tr th:only-of-type {\n",
       "        vertical-align: middle;\n",
       "    }\n",
       "\n",
       "    .dataframe tbody tr th {\n",
       "        vertical-align: top;\n",
       "    }\n",
       "\n",
       "    .dataframe thead th {\n",
       "        text-align: right;\n",
       "    }\n",
       "</style>\n",
       "<table border=\"1\" class=\"dataframe\">\n",
       "  <thead>\n",
       "    <tr style=\"text-align: right;\">\n",
       "      <th></th>\n",
       "      <th>name</th>\n",
       "      <th>Decision_Tree</th>\n",
       "      <th>Gradient Boosting</th>\n",
       "      <th>Random Forest</th>\n",
       "      <th>final_score</th>\n",
       "    </tr>\n",
       "  </thead>\n",
       "  <tbody>\n",
       "    <tr>\n",
       "      <th>7</th>\n",
       "      <td>month</td>\n",
       "      <td>1</td>\n",
       "      <td>1</td>\n",
       "      <td>1</td>\n",
       "      <td>3</td>\n",
       "    </tr>\n",
       "    <tr>\n",
       "      <th>8</th>\n",
       "      <td>poutcome</td>\n",
       "      <td>1</td>\n",
       "      <td>1</td>\n",
       "      <td>1</td>\n",
       "      <td>3</td>\n",
       "    </tr>\n",
       "    <tr>\n",
       "      <th>4</th>\n",
       "      <td>housing</td>\n",
       "      <td>1</td>\n",
       "      <td>1</td>\n",
       "      <td>1</td>\n",
       "      <td>3</td>\n",
       "    </tr>\n",
       "    <tr>\n",
       "      <th>6</th>\n",
       "      <td>contact</td>\n",
       "      <td>1</td>\n",
       "      <td>1</td>\n",
       "      <td>1</td>\n",
       "      <td>3</td>\n",
       "    </tr>\n",
       "    <tr>\n",
       "      <th>0</th>\n",
       "      <td>job</td>\n",
       "      <td>1</td>\n",
       "      <td>1</td>\n",
       "      <td>1</td>\n",
       "      <td>3</td>\n",
       "    </tr>\n",
       "    <tr>\n",
       "      <th>1</th>\n",
       "      <td>marital</td>\n",
       "      <td>1</td>\n",
       "      <td>1</td>\n",
       "      <td>1</td>\n",
       "      <td>3</td>\n",
       "    </tr>\n",
       "    <tr>\n",
       "      <th>2</th>\n",
       "      <td>education</td>\n",
       "      <td>1</td>\n",
       "      <td>1</td>\n",
       "      <td>0</td>\n",
       "      <td>2</td>\n",
       "    </tr>\n",
       "    <tr>\n",
       "      <th>5</th>\n",
       "      <td>loan</td>\n",
       "      <td>0</td>\n",
       "      <td>0</td>\n",
       "      <td>1</td>\n",
       "      <td>1</td>\n",
       "    </tr>\n",
       "    <tr>\n",
       "      <th>3</th>\n",
       "      <td>default</td>\n",
       "      <td>0</td>\n",
       "      <td>0</td>\n",
       "      <td>0</td>\n",
       "      <td>0</td>\n",
       "    </tr>\n",
       "  </tbody>\n",
       "</table>\n",
       "</div>"
      ],
      "text/plain": [
       "        name  Decision_Tree  Gradient Boosting  Random Forest  final_score\n",
       "7      month              1                  1              1            3\n",
       "8   poutcome              1                  1              1            3\n",
       "4    housing              1                  1              1            3\n",
       "6    contact              1                  1              1            3\n",
       "0        job              1                  1              1            3\n",
       "1    marital              1                  1              1            3\n",
       "2  education              1                  1              0            2\n",
       "5       loan              0                  0              1            1\n",
       "3    default              0                  0              0            0"
      ]
     },
     "execution_count": 52,
     "metadata": {},
     "output_type": "execute_result"
    }
   ],
   "source": [
    "score_table['final_score'] = score_table.sum(axis=1)\n",
    "score_table.sort_values('final_score',ascending=0)"
   ]
  },
  {
   "cell_type": "code",
   "execution_count": 58,
   "metadata": {},
   "outputs": [],
   "source": [
    "spark.stop()"
   ]
  },
  {
   "cell_type": "markdown",
   "metadata": {},
   "source": [
    "### Great job!"
   ]
  },
  {
   "cell_type": "code",
   "execution_count": null,
   "metadata": {},
   "outputs": [],
   "source": []
  }
 ],
 "metadata": {
  "kernelspec": {
   "display_name": "Python 3",
   "language": "python",
   "name": "python3"
  },
  "language_info": {
   "codemirror_mode": {
    "name": "ipython",
    "version": 3
   },
   "file_extension": ".py",
   "mimetype": "text/x-python",
   "name": "python",
   "nbconvert_exporter": "python",
   "pygments_lexer": "ipython3",
   "version": "3.8.8"
  }
 },
 "nbformat": 4,
 "nbformat_minor": 4
}
